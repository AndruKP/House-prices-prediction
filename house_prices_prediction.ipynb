{
 "cells": [
  {
   "cell_type": "markdown",
   "metadata": {},
   "source": [
    "# Импортируем библиотеки"
   ]
  },
  {
   "cell_type": "code",
   "execution_count": null,
   "metadata": {},
   "outputs": [],
   "source": [
    "import pandas as pd\n",
    "import re\n",
    "\n",
    "import numpy as np\n",
    "import matplotlib.pyplot as plt\n",
    "import seaborn as sns\n",
    "\n",
    "from sklearn.metrics import mean_squared_error\n",
    "from sklearn.preprocessing import StandardScaler\n",
    "from sklearn.model_selection import train_test_split\n",
    "\n",
    "from sklearn.linear_model import LinearRegression\n",
    "from sklearn.tree import DecisionTreeRegressor\n",
    "from sklearn.ensemble import BaggingRegressor, RandomForestRegressor, AdaBoostRegressor\n",
    "\n",
    "import tensorflow as tf\n",
    "from tensorflow import keras\n",
    "from tensorflow.keras import backend as K\n",
    "from tensorflow.keras.layers import Dense\n",
    "from tensorflow.keras.models import Sequential\n",
    "from tensorflow.keras.backend import clear_session\n",
    "\n",
    "np.random.seed(42)"
   ]
  },
  {
   "cell_type": "markdown",
   "metadata": {},
   "source": [
    "# Предобработка данных"
   ]
  },
  {
   "cell_type": "code",
   "execution_count": null,
   "metadata": {},
   "outputs": [],
   "source": [
    "df = pd.read_csv('data.csv')"
   ]
  },
  {
   "cell_type": "code",
   "execution_count": null,
   "metadata": {},
   "outputs": [],
   "source": [
    "df.head()"
   ]
  },
  {
   "cell_type": "code",
   "execution_count": null,
   "metadata": {},
   "outputs": [],
   "source": [
    "df.shape"
   ]
  },
  {
   "cell_type": "markdown",
   "metadata": {},
   "source": [
    "Количество пропущенных значенний:"
   ]
  },
  {
   "cell_type": "code",
   "execution_count": null,
   "metadata": {
    "scrolled": true
   },
   "outputs": [],
   "source": [
    "df.isna().sum() / (df.shape[0])*100 #процент пропусков"
   ]
  },
  {
   "cell_type": "markdown",
   "metadata": {},
   "source": [
    "Удаляем строки без целевой переменной:"
   ]
  },
  {
   "cell_type": "code",
   "execution_count": null,
   "metadata": {},
   "outputs": [],
   "source": [
    "df = df.loc[df['target'].isna() == False]"
   ]
  },
  {
   "cell_type": "code",
   "execution_count": null,
   "metadata": {
    "scrolled": true
   },
   "outputs": [],
   "source": [
    "df.shape"
   ]
  },
  {
   "cell_type": "markdown",
   "metadata": {},
   "source": [
    "Очищаем целевую переменную:"
   ]
  },
  {
   "cell_type": "code",
   "execution_count": null,
   "metadata": {},
   "outputs": [],
   "source": [
    "def target_format(target):\n",
    "    target = re.sub('[^0-9]', '', target) #оставляем только цифры\n",
    "    target = int(target)\n",
    "    return target"
   ]
  },
  {
   "cell_type": "code",
   "execution_count": null,
   "metadata": {},
   "outputs": [],
   "source": [
    "df['target'] = df['target'].apply(target_format)\n",
    "df['target'].describe()"
   ]
  },
  {
   "cell_type": "markdown",
   "metadata": {},
   "source": [
    "Очищаем признаки:"
   ]
  },
  {
   "cell_type": "code",
   "execution_count": null,
   "metadata": {},
   "outputs": [],
   "source": [
    "def features_float_format(feature):\n",
    "    if feature == 0:\n",
    "        return feature\n",
    "    feature = re.sub('1 1/2', '1.5', feature) # заменяем 1 1/2 на 1.5 (признак stories)\n",
    "    feature = re.sub('[^0-9,\\.]', '', feature) # оставляем только цифры\n",
    "    feature = re.sub(',', '.', feature) # заменяем ',' на '.'\n",
    "    \n",
    "    try:\n",
    "        feature = float(feature)\n",
    "    except:\n",
    "        feature = 0\n",
    "    return feature\n",
    "\n",
    "def status_format(status):\n",
    "    status = status.lower()\n",
    "    # если дом ещё не сделан,оставляем только 'coming soon', дату удаляем\n",
    "    if status.startswith('coming soon'): \n",
    "        status = 'coming soon'\n",
    "        \n",
    "    status = re.sub('[^a-z]', ' ', status) # оставляем только буквы\n",
    "    status = re.sub(r'\\b\\w{,2}\\b', '', status) # удаляем сочетание из 1 и 2 букв\n",
    "    status = re.sub(r'\\s+', ' ', status) # заменяем 1 или более пробелов на ' '\n",
    "    return status\n",
    "\n",
    "def fireplace_format(fireplace):\n",
    "    if fireplace == 0:\n",
    "        return fireplace\n",
    "    fireplace = fireplace.lower()\n",
    "    \n",
    "    if fireplace.count('no')>0:\n",
    "        fireplace = 0\n",
    "    else:\n",
    "        fireplace = 1\n",
    "    return fireplace"
   ]
  },
  {
   "cell_type": "code",
   "execution_count": null,
   "metadata": {},
   "outputs": [],
   "source": [
    "dummy_features = ['status','state'] \n",
    "drop_features = ['street', 'mls-id', 'MlsId', 'schools', 'homeFacts', 'city', 'zipcode'] "
   ]
  },
  {
   "cell_type": "code",
   "execution_count": null,
   "metadata": {},
   "outputs": [],
   "source": [
    "df['status'] = df['status'].fillna('')\n",
    "df['status'] = df['status'].apply(status_format)"
   ]
  },
  {
   "cell_type": "code",
   "execution_count": null,
   "metadata": {},
   "outputs": [],
   "source": [
    "df.propertyType.value_counts()"
   ]
  },
  {
   "cell_type": "markdown",
   "metadata": {},
   "source": [
    "Приблизительно 50% домов - 'single family', поэтому оставляем только этот признак:"
   ]
  },
  {
   "cell_type": "code",
   "execution_count": null,
   "metadata": {},
   "outputs": [],
   "source": [
    "def propertyType_format(propertyType):\n",
    "    propertyType = propertyType.lower()\n",
    "    propertyType = re.sub('[^a-z]', ' ', propertyType)# оставляем только буквы\n",
    "    \n",
    "    if propertyType.startswith('single family'):\n",
    "        propertyType = 1 \n",
    "    else:\n",
    "        propertyType = 0\n",
    "    return propertyType"
   ]
  },
  {
   "cell_type": "code",
   "execution_count": null,
   "metadata": {},
   "outputs": [],
   "source": [
    "df['propertyType'] = df['propertyType'].fillna('')\n",
    "df['propertyType'] = df['propertyType'].apply(propertyType_format)"
   ]
  },
  {
   "cell_type": "code",
   "execution_count": null,
   "metadata": {},
   "outputs": [],
   "source": [
    "df['private pool'] = df['private pool'].fillna('no')\n",
    "df['private pool'] = df['private pool'].apply(lambda pool: 1 if pool.lower() == 'yes' else 0)\n",
    "\n",
    "df['PrivatePool'] = df['PrivatePool'].fillna('no')\n",
    "df['PrivatePool'] = df['PrivatePool'].apply(lambda pool: 1 if pool.lower() == 'yes' else 0)\n",
    "\n",
    "df['PrivatePool'] = df['private pool'] | df['PrivatePool']\n",
    "df.drop(['private pool'], axis=1, inplace=True)"
   ]
  },
  {
   "cell_type": "code",
   "execution_count": null,
   "metadata": {},
   "outputs": [],
   "source": [
    "df['baths'] = df['baths'].fillna(0)\n",
    "df['baths'] = df['baths'].apply(features_float_format)\n",
    "\n",
    "df['sqft'] = df['sqft'].fillna(0)\n",
    "df['sqft'] = df['sqft'].apply(features_float_format)\n",
    "\n",
    "df['beds'] = df['beds'].fillna(0)\n",
    "df['beds'] = df['beds'].apply(features_float_format)\n",
    "\n",
    "df['stories'] = df['stories'].fillna(0)\n",
    "df['stories'] = df['stories'].apply(features_float_format)\n",
    "\n",
    "df['fireplace'] = df['fireplace'].fillna(0)\n",
    "df['fireplace'] = df['fireplace'].apply(fireplace_format)"
   ]
  },
  {
   "cell_type": "code",
   "execution_count": null,
   "metadata": {},
   "outputs": [],
   "source": [
    "df['homeFacts'] = df['homeFacts'].apply(eval) # конвертируем строку в словарь, используя eval"
   ]
  },
  {
   "cell_type": "code",
   "execution_count": null,
   "metadata": {},
   "outputs": [],
   "source": [
    "def homeFacts_format(homeFacts):\n",
    "    homeFacts = homeFacts.get('atAGlanceFacts', 0)\n",
    "    if homeFacts == 0: \n",
    "        return 0\n",
    "    homeFacts = homeFacts[0]\n",
    "    if homeFacts.get('factLabel') == 'Year built':\n",
    "        homeFacts = homeFacts.get('factValue')\n",
    "    try:\n",
    "        homeFacts = int(homeFacts)\n",
    "    except:\n",
    "        homeFacts = 0\n",
    "    return homeFacts"
   ]
  },
  {
   "cell_type": "code",
   "execution_count": null,
   "metadata": {},
   "outputs": [],
   "source": [
    "df['yearBuilt'] = df['homeFacts'].apply(homeFacts_format)"
   ]
  },
  {
   "cell_type": "code",
   "execution_count": null,
   "metadata": {},
   "outputs": [],
   "source": [
    "df['schools'] = df['schools'].apply(eval) # конвертируем строку в словарь, используя eval"
   ]
  },
  {
   "cell_type": "code",
   "execution_count": null,
   "metadata": {},
   "outputs": [],
   "source": [
    "def rating_format(schools):\n",
    "    schools = schools[0]\n",
    "    schools = schools.get('rating', 0)\n",
    "    if schools == 0: \n",
    "        return 0\n",
    "    \n",
    "    rating = []\n",
    "    for x in schools:\n",
    "        x = re.sub('/10','',x) # если рейтинг записан в формате 'x/10', заменяем на 'x'\n",
    "        rating.append(features_float_format(x))\n",
    "    \n",
    "    return np.mean(rating)"
   ]
  },
  {
   "cell_type": "code",
   "execution_count": null,
   "metadata": {},
   "outputs": [],
   "source": [
    "df['rating'] = df['schools'].apply(rating_format)\n",
    "df['rating'] = df['rating'].fillna(0)"
   ]
  },
  {
   "cell_type": "code",
   "execution_count": null,
   "metadata": {},
   "outputs": [],
   "source": [
    "def distance_format(schools):\n",
    "    schools = schools[0]\n",
    "    schools = schools.get('data', 0)\n",
    "    if schools == 0: \n",
    "        return 0\n",
    "    schools = schools.get('Distance', 0)\n",
    "    if schools == 0: \n",
    "        return 0\n",
    "    \n",
    "    distance=[]\n",
    "    for x in schools:\n",
    "        distance.append(features_float_format(x))\n",
    "    return np.mean(distance)"
   ]
  },
  {
   "cell_type": "code",
   "execution_count": null,
   "metadata": {
    "scrolled": true
   },
   "outputs": [],
   "source": [
    "df['distance'] = df['schools'].apply(distance_format)\n",
    "df['distance'] = df['distance'].fillna(0)"
   ]
  },
  {
   "cell_type": "code",
   "execution_count": null,
   "metadata": {},
   "outputs": [],
   "source": [
    "df.drop(drop_features, axis=1, inplace=True)# дропаем ненужные строки"
   ]
  },
  {
   "cell_type": "code",
   "execution_count": null,
   "metadata": {},
   "outputs": [],
   "source": [
    "df = pd.concat([df, pd.get_dummies(df['status'])], axis=1)\n",
    "df.drop('status', axis=1, inplace=True)\n",
    "\n",
    "df = pd.concat([df, pd.get_dummies(df['state'])], axis=1)\n",
    "df.drop('state', axis=1, inplace=True)"
   ]
  },
  {
   "cell_type": "markdown",
   "metadata": {},
   "source": [
    "# Статистический анализ"
   ]
  },
  {
   "cell_type": "code",
   "execution_count": null,
   "metadata": {},
   "outputs": [],
   "source": [
    "df.head()"
   ]
  },
  {
   "cell_type": "code",
   "execution_count": null,
   "metadata": {},
   "outputs": [],
   "source": [
    "df.describe(include='all')"
   ]
  },
  {
   "cell_type": "code",
   "execution_count": null,
   "metadata": {},
   "outputs": [],
   "source": [
    "corr = df.corr()\n",
    "\n",
    "cmap = sns.diverging_palette(5, 250, as_cmap=True)\n",
    "\n",
    "def magnify():\n",
    "    return [dict(selector=\"th\",\n",
    "                 props=[(\"font-size\", \"7pt\")]),\n",
    "            dict(selector=\"td\",\n",
    "                 props=[('padding', \"0em 0em\")]),\n",
    "            dict(selector=\"th:hover\",\n",
    "                 props=[(\"font-size\", \"12pt\")]),\n",
    "            dict(selector=\"tr:hover td:hover\",\n",
    "                 props=[('max-width', '200px'),\n",
    "                        ('font-size', '12pt')])\n",
    "]\n",
    "\n",
    "corr.style.background_gradient(cmap, axis=1)\\\n",
    "    .set_properties(**{'max-width': '80px', 'font-size': '10pt'})\\\n",
    "    .set_caption(\"Hover to magify\")\\\n",
    "    .set_precision(2)\\\n",
    "    .set_table_styles(magnify())"
   ]
  },
  {
   "cell_type": "code",
   "execution_count": null,
   "metadata": {},
   "outputs": [],
   "source": [
    "np.log(df['target']+1).hist(bins = 15)"
   ]
  },
  {
   "cell_type": "code",
   "execution_count": null,
   "metadata": {},
   "outputs": [],
   "source": [
    "np.log(df['sqft']+1).hist(bins = 15)"
   ]
  },
  {
   "cell_type": "code",
   "execution_count": null,
   "metadata": {},
   "outputs": [],
   "source": [
    "np.log(df['beds']+1).hist(bins = 15)"
   ]
  },
  {
   "cell_type": "code",
   "execution_count": null,
   "metadata": {},
   "outputs": [],
   "source": [
    "np.log(df['stories']+1).hist(bins = 15)"
   ]
  },
  {
   "cell_type": "code",
   "execution_count": null,
   "metadata": {
    "scrolled": true
   },
   "outputs": [],
   "source": [
    "df['rating'].hist()"
   ]
  },
  {
   "cell_type": "code",
   "execution_count": null,
   "metadata": {
    "scrolled": true
   },
   "outputs": [],
   "source": [
    "np.log(df['distance']+1).hist()"
   ]
  },
  {
   "cell_type": "code",
   "execution_count": null,
   "metadata": {},
   "outputs": [],
   "source": [
    "df.corr()['target'].sort_values(ascending = False)[:10]"
   ]
  },
  {
   "cell_type": "code",
   "execution_count": null,
   "metadata": {
    "scrolled": true
   },
   "outputs": [],
   "source": [
    "plt.scatter(df['rating'],df['target'])"
   ]
  },
  {
   "cell_type": "markdown",
   "metadata": {},
   "source": [
    "# Построение моделей"
   ]
  },
  {
   "cell_type": "markdown",
   "metadata": {},
   "source": [
    "Разобьем данные на обучающаю и тестовую выборки:"
   ]
  },
  {
   "cell_type": "code",
   "execution_count": null,
   "metadata": {},
   "outputs": [],
   "source": [
    "X_train, X_test, y_train, y_test = train_test_split(df.drop('target', axis=1), df['target'], test_size=0.2, random_state=42)"
   ]
  },
  {
   "cell_type": "code",
   "execution_count": null,
   "metadata": {},
   "outputs": [],
   "source": [
    "X_train.shape, y_train.shape, X_test.shape, y_test.shape"
   ]
  },
  {
   "cell_type": "markdown",
   "metadata": {},
   "source": [
    "Сделаем функцию для оценки точности предсказаний:"
   ]
  },
  {
   "cell_type": "code",
   "execution_count": null,
   "metadata": {},
   "outputs": [],
   "source": [
    "def evaluate(clf, X_train, y_train, X_test, y_test):\n",
    "    \n",
    "    train_predict = clf.predict(X_train)\n",
    "    test_predict = clf.predict(X_test)\n",
    "    \n",
    "    print('train rmse / mean:', np.sqrt(mean_squared_error(y_train, train_predict) ) / np.mean(y_train))\n",
    "    print('test rmse / mean:',np.sqrt(mean_squared_error(y_test, test_predict) ) / np.mean(y_test))\n",
    "    #Coefficient of determination\n",
    "    print('train R^2', clf.score(X_train,y_train)) \n",
    "    print('test R^2', clf.score(X_test,y_test))"
   ]
  },
  {
   "cell_type": "code",
   "execution_count": null,
   "metadata": {},
   "outputs": [],
   "source": [
    "lr = LinearRegression()\n",
    "lr.fit(X_train, y_train)"
   ]
  },
  {
   "cell_type": "code",
   "execution_count": null,
   "metadata": {},
   "outputs": [],
   "source": [
    "evaluate(lr,X_train, y_train, X_test, y_test)"
   ]
  },
  {
   "cell_type": "markdown",
   "metadata": {},
   "source": [
    "Коэффициент детерминации ниже 0.1, а значит модель очень плохо предсказывает результат. Попробуем различные деревья решений:"
   ]
  },
  {
   "cell_type": "code",
   "execution_count": null,
   "metadata": {
    "scrolled": true
   },
   "outputs": [],
   "source": [
    "tree = DecisionTreeRegressor(max_depth  = 7 ,random_state = 42)\n",
    "tree.fit(X_train,y_train)"
   ]
  },
  {
   "cell_type": "code",
   "execution_count": null,
   "metadata": {
    "scrolled": true
   },
   "outputs": [],
   "source": [
    "evaluate(tree,X_train, y_train, X_test, y_test)"
   ]
  },
  {
   "cell_type": "code",
   "execution_count": null,
   "metadata": {},
   "outputs": [],
   "source": [
    "tree8 = DecisionTreeRegressor(max_depth  = 8 ,random_state = 42)\n",
    "tree8.fit(X_train,y_train)\n",
    "evaluate(tree8,X_train, y_train, X_test, y_test)"
   ]
  },
  {
   "cell_type": "code",
   "execution_count": null,
   "metadata": {},
   "outputs": [],
   "source": [
    "tree6 = DecisionTreeRegressor(max_depth  = 6 ,random_state = 42)\n",
    "tree6.fit(X_train,y_train)\n",
    "evaluate(tree6,X_train, y_train, X_test, y_test)"
   ]
  },
  {
   "cell_type": "markdown",
   "metadata": {},
   "source": [
    "Итог: при максимальной глубине меньше 7 модель недообучается, а при максимальной глубине больше 7 - переобучается. \n",
    "\n",
    "Попробуем различные ансамбли:"
   ]
  },
  {
   "cell_type": "code",
   "execution_count": null,
   "metadata": {},
   "outputs": [],
   "source": [
    "bagging_trees = BaggingRegressor(tree, n_estimators = 8)\n",
    "bagging_trees.fit(X_train,y_train)"
   ]
  },
  {
   "cell_type": "code",
   "execution_count": null,
   "metadata": {},
   "outputs": [],
   "source": [
    "evaluate(bagging_trees,X_train, y_train, X_test, y_test)"
   ]
  },
  {
   "cell_type": "code",
   "execution_count": null,
   "metadata": {},
   "outputs": [],
   "source": [
    "random_forest = RandomForestRegressor(n_estimators = 8, random_state = 42)\n",
    "random_forest.fit(X_train,y_train)"
   ]
  },
  {
   "cell_type": "code",
   "execution_count": null,
   "metadata": {},
   "outputs": [],
   "source": [
    "evaluate(random_forest,X_train, y_train, X_test, y_test)"
   ]
  },
  {
   "cell_type": "code",
   "execution_count": null,
   "metadata": {},
   "outputs": [],
   "source": [
    "adaboost = AdaBoostRegressor(tree,n_estimators = 8)\n",
    "adaboost.fit(X_train,y_train)"
   ]
  },
  {
   "cell_type": "code",
   "execution_count": null,
   "metadata": {
    "scrolled": true
   },
   "outputs": [],
   "source": [
    "evaluate(adaboost,X_train, y_train, X_test, y_test)"
   ]
  },
  {
   "cell_type": "markdown",
   "metadata": {},
   "source": [
    "Итог: random forest справляется лучше всех, имея коэффициент детерминации 0.566 на тестовой выборке."
   ]
  }
 ],
 "metadata": {
  "kernelspec": {
   "display_name": "Python 3",
   "language": "python",
   "name": "python3"
  },
  "language_info": {
   "codemirror_mode": {
    "name": "ipython",
    "version": 3
   },
   "file_extension": ".py",
   "mimetype": "text/x-python",
   "name": "python",
   "nbconvert_exporter": "python",
   "pygments_lexer": "ipython3",
   "version": "3.7.6"
  }
 },
 "nbformat": 4,
 "nbformat_minor": 4
}
